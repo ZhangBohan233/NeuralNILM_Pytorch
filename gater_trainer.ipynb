{
 "cells": [
  {
   "cell_type": "code",
   "execution_count": 1,
   "id": "initial_id",
   "metadata": {
    "collapsed": true,
    "is_executing": true
   },
   "outputs": [],
   "source": [
    "from nilmtk.api import API\n",
    "import warnings\n",
    "\n",
    "warnings.filterwarnings(\"ignore\")\n",
    "from nilmtk.disaggregate import DM_SDA, GaterSGN, SGN"
   ]
  },
  {
   "cell_type": "code",
   "execution_count": 2,
   "id": "97367dc6",
   "metadata": {},
   "outputs": [
    {
     "name": "stdout",
     "output_type": "stream",
     "text": [
      "2.0.1 2.0.4 cuda:0\n"
     ]
    }
   ],
   "source": [
    "import torch\n",
    "import torch.nn.functional as F\n",
    "from torch.utils.data import Dataset\n",
    "import pytorch_lightning as pl\n",
    "\n",
    "import numpy as np\n",
    "import matplotlib as mpl\n",
    "import matplotlib.pyplot as plt\n",
    "import os\n",
    "\n",
    "# from src import *\n",
    "\n",
    "USE_GPU = True\n",
    "device = torch.device(\"cuda:0\" if USE_GPU and torch.cuda.is_available() else \"cpu\")\n",
    "print(torch.__version__, pl.__version__, device)"
   ]
  },
  {
   "cell_type": "code",
   "execution_count": 3,
   "id": "7f6cc5f0a00029dd",
   "metadata": {
    "collapsed": false
   },
   "outputs": [
    {
     "name": "stdout",
     "output_type": "stream",
     "text": [
      "GaterSGN\n",
      "Started training for  SGN\n",
      "Joint training for  SGN\n",
      "............... Loading Data for training ...................\n",
      "Loading data for  ukdale  dataset\n",
      "Loading building ...  1\n",
      "Dropping missing values\n",
      "Train Jointly\n",
      "Loading building ...  2\n",
      "Dropping missing values\n",
      "Train Jointly\n",
      "Loading building ...  5\n",
      "Dropping missing values\n",
      "Train Jointly\n",
      "...............SGN partial_fit running...............\n"
     ]
    }
   ],
   "source": [
    "e = {\n",
    "    # Specify power type, sample rate and disaggregated appliance\n",
    "    'power': {\n",
    "        'mains': ['active'],\n",
    "        # 'appliance': ['active']\n",
    "        # 'mains': ['apparent'],  # problem: ukdale active, redd apparent\n",
    "        'appliance': ['active']\n",
    "    },\n",
    "    'sample_rate': 6,\n",
    "    'appliances': ['fridge'],\n",
    "    # 'appliances': ['washing machine'],\n",
    "    # Universally no pre-training\n",
    "    'pre_trained': False,\n",
    "    # Specify algorithm hyper-parameters\n",
    "    'methods': {\n",
    "        # \"GaterSGN\": GaterSGN(\n",
    "        # {'n_epochs': 10, 'batch_size': 256, 'test_only': False}),\n",
    "        \"GaterSGN\": SGN(\n",
    "        {'n_epochs': 5, 'batch_size': 256, 'test_only': True, 'gate_only': True})\n",
    "        },\n",
    "        \n",
    "    # Specify train and test data\n",
    "    'train': {\n",
    "        'datasets': {\n",
    "            'ukdale': {\n",
    "                'path': 'mnt/ukdale.h5',\n",
    "                'buildings': {\n",
    "                    1: {\n",
    "                        'start_time': '2013-05-31',\n",
    "                        'end_time': '2014-12-31'\n",
    "                    },\n",
    "                    2: {\n",
    "                        'start_time': '2013-05-22',\n",
    "                        'end_time': '2013-08-01'\n",
    "                    },\n",
    "                    5: {\n",
    "                        'start_time': '2014-07-01',\n",
    "                        'end_time': '2014-09-05'\n",
    "                    },\n",
    "                }\n",
    "            },\n",
    "        }\n",
    "    },\n",
    "    # 'transfer': {\n",
    "    #     'datasets': {\n",
    "    #         'redd': {\n",
    "    #             'path': 'mnt/redd.h5',\n",
    "    #             'buildings': {\n",
    "    #                 # 1: {\n",
    "    #                 #     'start_time': '2011-04-19',\n",
    "    #                 #     'end_time': '2011-05-04'\n",
    "    #                 # }\n",
    "    #                 2: {\n",
    "    #                     'start_time': '2011-04-18',\n",
    "    #                     'end_time': '2011-04-25'\n",
    "    #                 }\n",
    "    #             }\n",
    "    #         },\n",
    "    #         # 'ukdale': {\n",
    "    #         #   'path': 'mnt/ukdale.h5',\n",
    "    #         #   'buildings': {\n",
    "    #         #         1: {\n",
    "    #         #               'start_time': '2013-05-01 00:00',\n",
    "    #         #               'end_time': '2013-05-14 00:00'\n",
    "    #         #         }\n",
    "    #         #     }\n",
    "    #         #   },\n",
    "    #     },\n",
    "    # },\n",
    "    'test': {\n",
    "        'datasets': {\n",
    "            'ukdale': {\n",
    "              'path': 'mnt/ukdale.h5',\n",
    "              'buildings': {\n",
    "                    2: {\n",
    "                          'start_time': '2013-09-10 00:00',\n",
    "                          'end_time': '2013-09-17 00:00'\n",
    "                    }\n",
    "                }\n",
    "              },\n",
    "            # 'redd': {\n",
    "            #     'path': 'mnt/redd.h5',\n",
    "            #     'buildings': {\n",
    "            #         2: {\n",
    "            #             'start_time': '2011-04-26',\n",
    "            #             'end_time': '2011-04-30'\n",
    "            #         }\n",
    "            #     }\n",
    "            #     # 'buildings': {\n",
    "            #     #     2: {\n",
    "            #     #         'start_time': '2011-05-05',\n",
    "            #     #         'end_time': '2011-05-22'\n",
    "            #     #     }\n",
    "            #     # }\n",
    "            # },\n",
    "        },\n",
    "        # Specify evaluation metrics\n",
    "        'metrics': ['accuracy', 'f1score', 'recall', 'precision', 'nep', 'MCC']\n",
    "    }\n",
    "}\n",
    "\n",
    "API(e)"
   ]
  }
 ],
 "metadata": {
  "kernelspec": {
   "display_name": "Python 3",
   "language": "python",
   "name": "python3"
  },
  "language_info": {
   "codemirror_mode": {
    "name": "ipython",
    "version": 3
   },
   "file_extension": ".py",
   "mimetype": "text/x-python",
   "name": "python",
   "nbconvert_exporter": "python",
   "pygments_lexer": "ipython3",
   "version": "3.10.11"
  }
 },
 "nbformat": 4,
 "nbformat_minor": 5
}
